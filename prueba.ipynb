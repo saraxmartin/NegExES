{
  "nbformat": 4,
  "nbformat_minor": 0,
  "metadata": {
    "colab": {
      "provenance": [],
      "authorship_tag": "ABX9TyN7qEuiu2HuzuhAq9AQHbvP",
      "include_colab_link": true
    },
    "kernelspec": {
      "name": "python3",
      "display_name": "Python 3"
    },
    "language_info": {
      "name": "python"
    }
  },
  "cells": [
    {
      "cell_type": "markdown",
      "metadata": {
        "id": "view-in-github",
        "colab_type": "text"
      },
      "source": [
        "<a href=\"https://colab.research.google.com/github/saraxmartin/NegExES/blob/main/prueba.ipynb\" target=\"_parent\"><img src=\"https://colab.research.google.com/assets/colab-badge.svg\" alt=\"Open In Colab\"/></a>"
      ]
    },
    {
      "cell_type": "code",
      "execution_count": null,
      "metadata": {
        "colab": {
          "base_uri": "https://localhost:8080/"
        },
        "id": "Z_5QoglTtq-n",
        "outputId": "7f26d60c-e3b1-47ad-a31d-396c2607707c"
      },
      "outputs": [
        {
          "output_type": "stream",
          "name": "stdout",
          "text": [
            "hola\n"
          ]
        }
      ],
      "source": [
        "print(\"hola\")"
      ]
    },
    {
      "cell_type": "code",
      "source": [
        "print(\"que tal\")"
      ],
      "metadata": {
        "id": "ojmWsOPSupRb"
      },
      "execution_count": null,
      "outputs": []
    },
    {
      "cell_type": "code",
      "source": [
        "from google.colab import drive\n",
        "drive.mount('/content/drive')"
      ],
      "metadata": {
        "colab": {
          "base_uri": "https://localhost:8080/"
        },
        "id": "49-Ffu8BYysX",
        "outputId": "3d5789fc-248e-4ac6-b6e3-14a2bdf9c921"
      },
      "execution_count": 6,
      "outputs": [
        {
          "output_type": "stream",
          "name": "stdout",
          "text": [
            "Mounted at /content/drive\n"
          ]
        }
      ]
    },
    {
      "cell_type": "code",
      "source": [
        "!git clone https://github.com/saraxmartin/NegExES.git"
      ],
      "metadata": {
        "id": "2o88_vaG1R7V",
        "colab": {
          "base_uri": "https://localhost:8080/"
        },
        "outputId": "fe56bd54-ce21-4014-e53d-f9a7d6ac0384"
      },
      "execution_count": 13,
      "outputs": [
        {
          "output_type": "stream",
          "name": "stdout",
          "text": [
            "Cloning into 'NegExES'...\n",
            "remote: Enumerating objects: 13, done.\u001b[K\n",
            "remote: Counting objects: 100% (13/13), done.\u001b[K\n",
            "remote: Compressing objects: 100% (12/12), done.\u001b[K\n",
            "remote: Total 13 (delta 1), reused 0 (delta 0), pack-reused 0\u001b[K\n",
            "Receiving objects: 100% (13/13), 547.89 KiB | 5.22 MiB/s, done.\n",
            "Resolving deltas: 100% (1/1), done.\n"
          ]
        }
      ]
    },
    {
      "cell_type": "code",
      "source": [
        "data = \"/content/NegExES/data/negacio_train_v2024.json\""
      ],
      "metadata": {
        "id": "vqU1zve4bTbD"
      },
      "execution_count": 14,
      "outputs": []
    }
  ]
}